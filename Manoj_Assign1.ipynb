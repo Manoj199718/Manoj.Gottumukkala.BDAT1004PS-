{
 "cells": [
  {
   "cell_type": "markdown",
   "metadata": {},
   "source": [
    "# Question 1:\n",
    "What data type is each of the following"
   ]
  },
  {
   "cell_type": "code",
   "execution_count": 8,
   "metadata": {},
   "outputs": [
    {
     "name": "stdout",
     "output_type": "stream",
     "text": [
      "<class 'int'>\n",
      "<class 'float'>\n",
      "<class 'bool'>\n",
      "<class 'str'>\n",
      "<class 'int'>\n",
      "<class 'str'>\n",
      "<class 'str'>\n",
      "<class 'float'>\n",
      "<class 'int'>\n",
      "<class 'list'>\n",
      "<class 'bool'>\n",
      "<class 'float'>\n"
     ]
    }
   ],
   "source": [
    "import math           # Imports math function\n",
    "print(type(5))\n",
    "print(type(5.0))\n",
    "print(type(5>1))\n",
    "print(type('5'))\n",
    "print(type(5*2))\n",
    "print(type('5'*2))\n",
    "print(type('5'+'2'))\n",
    "print(type(5/2))\n",
    "print(type(5//2))\n",
    "print(type([5,2,1]))\n",
    "print(type(5 in [1,4,6]))\n",
    "print(type(math.pi))\n"
   ]
  },
  {
   "cell_type": "markdown",
   "metadata": {},
   "source": [
    "# Question 2: \n",
    "Write (and evaluate) Python expressions that answer these questions:\n",
    "a. How many letters are there in 'Supercalifragilisticexpialidocious'?\n",
    "b. Does 'Supercalifragilisticexpialidocious' contain 'ice' as a substring? \n",
    "c. Which of the following words is the longest:\n",
    "Supercalifragilisticexpialidocious, Honorificabilitudinitatibus, or\n",
    "Bababadalgharaghtakamminarronnkonn?\n",
    "d. Which composer comes first in the dictionary: 'Berlioz', 'Borodin', 'Brian',\n",
    "'Bartok', 'Bellini', 'Buxtehude', 'Bernstein'. Which one comes last?\n"
   ]
  },
  {
   "cell_type": "code",
   "execution_count": 9,
   "metadata": {
    "scrolled": true
   },
   "outputs": [
    {
     "name": "stdout",
     "output_type": "stream",
     "text": [
      "a. The number of letters in the string are 34\n",
      "b. Is ice a substring ? True\n",
      "c.The longest strings are Supercalifragilisticexpialidocious and Bababadalgharaghtakamminarronnkonn\n",
      "d. The composer that comes first in the dictionary is Bartok\n",
      "   The composer that comes last in the dictionary is Buxtehude\n"
     ]
    }
   ],
   "source": [
    "stringA= 'Supercalifragilisticexpialidocious' #Stores the string in stringA\n",
    "stringB='ice'\n",
    "stringC1= 'Honorificabilitudinitatibus'\n",
    "stringC2='Bababadalgharaghtakamminarronnkonn'\n",
    "l1=len(stringA)\n",
    "l2=len(stringC1)\n",
    "l3=len(stringC2)\n",
    "print('a. The number of letters in the string are', len(stringA)) #Prints the result.\n",
    "print('b. Is ice a substring ?', stringB in stringA) #Returns True if present.\n",
    "if l1>=l2 and l1>=l3:\n",
    "    if l1==l2:\n",
    "        print('c.The longest string are {0} and {1}'.format(stringA,stringC1))\n",
    "    elif l1==l3:\n",
    "        print('c.The longest strings are {0} and {1}'.format(stringA,stringC2))\n",
    "    else:\n",
    "        print('c.The longest string is', stringA)\n",
    "elif l2>=l1 and l2>=l3:\n",
    "    if l2==l1:\n",
    "        print('c.The longest string are {0} and {1}'.format(stringA,stringC1))\n",
    "    elif l2==l3:\n",
    "        print('c.The longest strings are {0} and {1}'.format(stringC1,stringC2 ))\n",
    "    else:\n",
    "        print('c.The longest string is', stringC1)\n",
    "else:\n",
    "    print('The longest string is', stringC2)\n",
    "list1=[ 'Berlioz', 'Borodin', 'Brian', 'Bartok', 'Bellini', 'Buxtehude', 'Bernstein']\n",
    "list1.sort()                  #Sorts the elements in the list.\n",
    "print('d. The composer that comes first in the dictionary is', list1[0]) #Prints the first element in the sorted list\n",
    "print('   The composer that comes last in the dictionary is', list1[-1]) #Prints the last element in the sorted list."
   ]
  },
  {
   "cell_type": "markdown",
   "metadata": {},
   "source": [
    "# Question 3\n",
    "a. Write a function inside(x,y,x1,y1,x2,y2) that returns True or False\n",
    "depending on whether the point (x,y) lies in the rectangle with lower left\n",
    "corner (x1,y1) and upper right corner (x2,y2). \n",
    "b. Use function inside() from part a. to write an expression that tests whether\n",
    "the point (1,1) lies in both of the following rectangles: one with lower left\n",
    "corner (0.3, 0.5) and upper right corner (1.1, 0.7) and the other with lower\n",
    "left corner (0.5, 0.2) and upper right corner (1.1, 2)."
   ]
  },
  {
   "cell_type": "code",
   "execution_count": 10,
   "metadata": {},
   "outputs": [],
   "source": [
    "def inside(x,y,x1,y1,x2,y2):                 #function definition\n",
    "    if((x1<x and y1<y) and (x2>x and y2>y)):   #Checks for the condition\n",
    "        return(True)\n",
    "    else:\n",
    "        return(False)\n"
   ]
  },
  {
   "cell_type": "code",
   "execution_count": 11,
   "metadata": {},
   "outputs": [
    {
     "name": "stdout",
     "output_type": "stream",
     "text": [
      "a: True\n",
      "   False\n",
      "b: False\n",
      "   True\n"
     ]
    }
   ],
   "source": [
    "x=inside(1,1,0,0,2,3)                        #function call\n",
    "#True implies point lies inside rectangle whereas False represents point lies\n",
    "#outside the rectangle.\n",
    "print('a:',x)                                #prints the output\n",
    "x1=inside(-1,-1,0,0,2,3)\n",
    "print('  ',x1)\n",
    "y1=inside(1,1,0.3,0.5,1.1,0.7)\n",
    "print('b:',y1)\n",
    "y2=inside(1,1,0.5,0.2,1.1,2)\n",
    "print('  ',y2)"
   ]
  },
  {
   "cell_type": "markdown",
   "metadata": {},
   "source": [
    "# Question 4\n",
    "You can turn a word into pig-Latin using the following two rules (simplified):\n",
    "• If the word starts with a consonant, move that letter to the end and append\n",
    "'ay'. For example, 'happy' becomes 'appyhay' and 'pencil' becomes 'encilpay'.\n",
    "• If the word starts with a vowel, simply append 'way' to the end of the word.\n",
    "For example, 'enter' becomes 'enterway' and 'other' becomes 'otherway' . For\n",
    "our purposes, there are 5 vowels: a, e, i, o, u (so we count y as a consonant).\n",
    "Write a function pig() that takes a word (i.e., a string) as input and returns its pigLatin form. Your function should still work if the input word contains upper case\n",
    "characters. Your output should always be lower case however. "
   ]
  },
  {
   "cell_type": "code",
   "execution_count": 12,
   "metadata": {},
   "outputs": [],
   "source": [
    "def pig(x):\n",
    "    if x[0][0] in 'aeiou':        #'aeiou' are the vowels, this conditional statement checks whether the first letter is an vowel\n",
    "        return(x[0][0:]+'way')    # Performs string slicing and string concatenation.\n",
    "    else:                         #This block of code is executed when the word starts with a consonant.\n",
    "        return(x[0][1:]+x[0][0]+'ay') # Performs string slicing and string concatenation.\n",
    "        \n",
    "        "
   ]
  },
  {
   "cell_type": "code",
   "execution_count": 13,
   "metadata": {},
   "outputs": [
    {
     "name": "stdout",
     "output_type": "stream",
     "text": [
      "The word is: happy\n",
      "The pig-latin of the given word is: appyhay\n"
     ]
    }
   ],
   "source": [
    "string1='happy'\n",
    "print(\"The word is: \" +string1)\n",
    "list1=[string1.lower()]           #Converts the string to lowercase and stores in the list.\n",
    "a=pig(list1)                      #Function call\n",
    "print('The pig-latin of the given word is: ' +a)"
   ]
  },
  {
   "cell_type": "code",
   "execution_count": 14,
   "metadata": {},
   "outputs": [
    {
     "name": "stdout",
     "output_type": "stream",
     "text": [
      "The word is: Enter\n",
      "The pig-latin of the above word is: enterway\n"
     ]
    }
   ],
   "source": [
    "string2='Enter'\n",
    "print(\"The word is: \" +string2)\n",
    "list2=[string2.lower()]\n",
    "b=pig(list2)\n",
    "print('The pig-latin of the above word is: ' +b)"
   ]
  },
  {
   "cell_type": "markdown",
   "metadata": {},
   "source": [
    "# Question 5\n",
    "File bloodtype1.txt records blood-types of patients (A, B, AB, O or OO) at a clinic.\n",
    "Write a function bldcount() that reads the file with name name and reports (i.e.,\n",
    "prints) how many patients there are in each bloodtype."
   ]
  },
  {
   "cell_type": "code",
   "execution_count": 15,
   "metadata": {},
   "outputs": [],
   "source": [
    "def b1dcount(name):        # Function definition.\n",
    "    name=name.read()          #Reads the content of the file.\n",
    "    name=name.split(\" \")      # Splits the data by blankspaces and then stores each element in a list.\n",
    "    print(name)\n",
    "    countA=name.count('A') # Counts the number of elements with 'A' blood group.\n",
    "    countB=name.count('B') # Counts the number of elements with 'B' blood group.\n",
    "    countAB=name.count('AB') # Counts the number of elements with 'AB' blood group.\n",
    "    countO=name.count('O') # Counts the number of elements with 'O' blood group.\n",
    "    countOO=name.count('OO') # Counts the number of elements with 'OO' blood group.\n",
    "    print('There are {0} patients of blood type A. ' .format(countA))\n",
    "    print('There are {0} patients of blood type B. ' .format(countB))\n",
    "    print('There are {0} patients of blood type AB. ' .format(countAB))\n",
    "    print('There are {0} patients of blood type O. ' .format(countO))\n",
    "    print('There are {0} patients of blood type OO. ' .format(countOO))\n"
   ]
  },
  {
   "cell_type": "code",
   "execution_count": 16,
   "metadata": {},
   "outputs": [
    {
     "name": "stdout",
     "output_type": "stream",
     "text": [
      "['AB', 'AB', 'B', 'O', 'A', 'A', 'AB', 'O', 'AB', 'A', 'O', 'O', 'A', 'A', 'A', 'O', 'O', 'O', 'AB', 'O', 'A', 'A', 'A', 'A', 'A', 'AB', 'AB', 'A', 'AB', 'O', 'AB', 'O', 'A', 'O', 'O', 'O', 'AB', 'O', 'AB', 'AB', 'AB', 'A', 'A', 'O', '\\n']\n",
      "There are 15 patients of blood type A. \n",
      "There are 1 patients of blood type B. \n",
      "There are 13 patients of blood type AB. \n",
      "There are 15 patients of blood type O. \n",
      "There are 0 patients of blood type OO. \n"
     ]
    }
   ],
   "source": [
    "x=open(\"blood.txt\",\"r\")   #Opens the file named \"blood.txt\" in read format. \n",
    "b1dcount(x)               #function call"
   ]
  },
  {
   "cell_type": "markdown",
   "metadata": {},
   "source": [
    "# Question 6\n",
    "Write a function curconv() that takes as input:\n",
    "1. a currency represented using a string (e.g., 'JPY' for the Japanese Yen or\n",
    "'EUR' for the Euro)\n",
    "2. an amount\n",
    "and then converts and returns the amount in US dollars.\n"
   ]
  },
  {
   "cell_type": "markdown",
   "metadata": {},
   "source": [
    "Flattening of the list reference: https://likegeeks.com/python-flattening-lists/"
   ]
  },
  {
   "cell_type": "code",
   "execution_count": 17,
   "metadata": {},
   "outputs": [],
   "source": [
    "def curconv(currency,amount):\n",
    "    y=open(\"currency.txt\",\"r\")   # Opens the file named \"currency.txt\" in read mode.\n",
    "    list1=[]          \n",
    "    for line in y:\n",
    "        y=line.strip()\n",
    "        y=y.split('\\t')          #Splits the line on the basis of tabspace, individual elements are stored in the list.\n",
    "        list1.append(y)          # The orginal string data is converted into list.\n",
    "    flatlist=[ item for elem in list1 for item in elem]  #flatting the list \n",
    "    print(flatlist)\n",
    "    if currency in flatlist:\n",
    "        x=flatlist.index(currency)\n",
    "        answer=float(flatlist[x+1])*amount\n",
    "    return(answer)"
   ]
  },
  {
   "cell_type": "code",
   "execution_count": 18,
   "metadata": {},
   "outputs": [
    {
     "name": "stdout",
     "output_type": "stream",
     "text": [
      "['AUD', '1.0345157', 'Australian Dollar', 'CHF', '1.0237414', 'Swiss Franc', 'CNY', '0.1550176', 'Chinese Yuan', 'DKK', '0.1651442', 'Danish Krone', 'EUR', '1.2296544', 'Euro', 'GBP', '1.5550989', 'British Pound', 'HKD', '0.1270207', 'Hong Kong Dollar', 'INR', '0.0177643', 'Indian Rupee', 'JPY', '0.01241401', 'Japanese Yen', 'MXN', '0.0751848', 'Mexican Peso', 'MYR', '0.3145411', 'Malaysian Ringgit', 'NOK', '0.1677063', 'Norwegian Krone', 'NZD', '0.8003591', 'New Zealand Dollar', 'PHP', '0.0233234', 'Philippine Peso', 'SEK', '0.148269', 'Swedish Krona', 'SGD', '0.788871', 'Singapore Dollar', 'THB', '0.0313789', 'Thai Baht']\n",
      "\n",
      "Japanese Yen of amount 100 in US dollars is 1.241401\n"
     ]
    }
   ],
   "source": [
    "x=curconv('JPY',100)\n",
    "print(\"\")\n",
    "print(\"Japanese Yen of amount 100 in US dollars is\", x)"
   ]
  },
  {
   "cell_type": "code",
   "execution_count": 19,
   "metadata": {},
   "outputs": [
    {
     "name": "stdout",
     "output_type": "stream",
     "text": [
      "['AUD', '1.0345157', 'Australian Dollar', 'CHF', '1.0237414', 'Swiss Franc', 'CNY', '0.1550176', 'Chinese Yuan', 'DKK', '0.1651442', 'Danish Krone', 'EUR', '1.2296544', 'Euro', 'GBP', '1.5550989', 'British Pound', 'HKD', '0.1270207', 'Hong Kong Dollar', 'INR', '0.0177643', 'Indian Rupee', 'JPY', '0.01241401', 'Japanese Yen', 'MXN', '0.0751848', 'Mexican Peso', 'MYR', '0.3145411', 'Malaysian Ringgit', 'NOK', '0.1677063', 'Norwegian Krone', 'NZD', '0.8003591', 'New Zealand Dollar', 'PHP', '0.0233234', 'Philippine Peso', 'SEK', '0.148269', 'Swedish Krona', 'SGD', '0.788871', 'Singapore Dollar', 'THB', '0.0313789', 'Thai Baht']\n",
      "EUR of amount 100 in US dollars is 122.96544\n"
     ]
    }
   ],
   "source": [
    "x=curconv('EUR',100)\n",
    "print(\"EUR of amount 100 in US dollars is\", x)"
   ]
  },
  {
   "cell_type": "markdown",
   "metadata": {},
   "source": [
    "# Question 7\n",
    "Each of the following will cause an exception (an error). Identify what type of\n",
    "exception each will cause."
   ]
  },
  {
   "cell_type": "code",
   "execution_count": 20,
   "metadata": {},
   "outputs": [
    {
     "ename": "TypeError",
     "evalue": "unsupported operand type(s) for +: 'int' and 'str'",
     "output_type": "error",
     "traceback": [
      "\u001b[1;31m---------------------------------------------------------------------------\u001b[0m",
      "\u001b[1;31mTypeError\u001b[0m                                 Traceback (most recent call last)",
      "\u001b[1;32m<ipython-input-20-68e765c8ac03>\u001b[0m in \u001b[0;36m<module>\u001b[1;34m\u001b[0m\n\u001b[1;32m----> 1\u001b[1;33m \u001b[1;36m6\u001b[0m \u001b[1;33m+\u001b[0m \u001b[1;34m'a'\u001b[0m       \u001b[1;31m#Gives \"TYPE Error\"\u001b[0m\u001b[1;33m\u001b[0m\u001b[1;33m\u001b[0m\u001b[0m\n\u001b[0m",
      "\u001b[1;31mTypeError\u001b[0m: unsupported operand type(s) for +: 'int' and 'str'"
     ]
    }
   ],
   "source": [
    "6 + 'a'       #Gives \"TYPE Error\""
   ]
  },
  {
   "cell_type": "code",
   "execution_count": 21,
   "metadata": {},
   "outputs": [
    {
     "ename": "IndexError",
     "evalue": "list index out of range",
     "output_type": "error",
     "traceback": [
      "\u001b[1;31m---------------------------------------------------------------------------\u001b[0m",
      "\u001b[1;31mIndexError\u001b[0m                                Traceback (most recent call last)",
      "\u001b[1;32m<ipython-input-21-0fdd22472e84>\u001b[0m in \u001b[0;36m<module>\u001b[1;34m\u001b[0m\n\u001b[0;32m      1\u001b[0m \u001b[0ma\u001b[0m\u001b[1;33m=\u001b[0m\u001b[1;33m[\u001b[0m\u001b[1;36m1\u001b[0m\u001b[1;33m,\u001b[0m\u001b[1;36m2\u001b[0m\u001b[1;33m,\u001b[0m\u001b[1;36m3\u001b[0m\u001b[1;33m,\u001b[0m\u001b[1;36m4\u001b[0m\u001b[1;33m,\u001b[0m\u001b[1;36m5\u001b[0m\u001b[1;33m,\u001b[0m\u001b[1;36m6\u001b[0m\u001b[1;33m,\u001b[0m\u001b[1;36m7\u001b[0m\u001b[1;33m,\u001b[0m\u001b[1;36m8\u001b[0m\u001b[1;33m,\u001b[0m\u001b[1;36m9\u001b[0m\u001b[1;33m,\u001b[0m\u001b[1;36m10\u001b[0m\u001b[1;33m]\u001b[0m\u001b[1;33m\u001b[0m\u001b[1;33m\u001b[0m\u001b[0m\n\u001b[1;32m----> 2\u001b[1;33m \u001b[0mprint\u001b[0m\u001b[1;33m(\u001b[0m\u001b[0ma\u001b[0m\u001b[1;33m[\u001b[0m\u001b[1;36m12\u001b[0m\u001b[1;33m]\u001b[0m\u001b[1;33m)\u001b[0m           \u001b[1;31m#Gives Index error\u001b[0m\u001b[1;33m\u001b[0m\u001b[1;33m\u001b[0m\u001b[0m\n\u001b[0m",
      "\u001b[1;31mIndexError\u001b[0m: list index out of range"
     ]
    }
   ],
   "source": [
    "a=[1,2,3,4,5,6,7,8,9,10]\n",
    "print(a[12])           #Gives Index error"
   ]
  },
  {
   "cell_type": "code",
   "execution_count": 22,
   "metadata": {},
   "outputs": [
    {
     "ename": "ValueError",
     "evalue": "math domain error",
     "output_type": "error",
     "traceback": [
      "\u001b[1;31m---------------------------------------------------------------------------\u001b[0m",
      "\u001b[1;31mValueError\u001b[0m                                Traceback (most recent call last)",
      "\u001b[1;32m<ipython-input-22-9f3fe68363bb>\u001b[0m in \u001b[0;36m<module>\u001b[1;34m\u001b[0m\n\u001b[0;32m      1\u001b[0m \u001b[1;32mimport\u001b[0m \u001b[0mmath\u001b[0m\u001b[1;33m\u001b[0m\u001b[1;33m\u001b[0m\u001b[0m\n\u001b[1;32m----> 2\u001b[1;33m \u001b[0mmath\u001b[0m\u001b[1;33m.\u001b[0m\u001b[0msqrt\u001b[0m\u001b[1;33m(\u001b[0m\u001b[1;33m-\u001b[0m\u001b[1;36m1.0\u001b[0m\u001b[1;33m)\u001b[0m        \u001b[1;31m#Gives Value error\u001b[0m\u001b[1;33m\u001b[0m\u001b[1;33m\u001b[0m\u001b[0m\n\u001b[0m",
      "\u001b[1;31mValueError\u001b[0m: math domain error"
     ]
    }
   ],
   "source": [
    "import math\n",
    "math.sqrt(-1.0)        #Gives Value error"
   ]
  },
  {
   "cell_type": "code",
   "execution_count": 23,
   "metadata": {},
   "outputs": [
    {
     "ename": "NameError",
     "evalue": "name 'xx' is not defined",
     "output_type": "error",
     "traceback": [
      "\u001b[1;31m---------------------------------------------------------------------------\u001b[0m",
      "\u001b[1;31mNameError\u001b[0m                                 Traceback (most recent call last)",
      "\u001b[1;32m<ipython-input-23-4a94dd67ce0b>\u001b[0m in \u001b[0;36m<module>\u001b[1;34m\u001b[0m\n\u001b[0;32m      1\u001b[0m \u001b[0ma\u001b[0m\u001b[1;33m=\u001b[0m\u001b[1;36m10\u001b[0m\u001b[1;33m\u001b[0m\u001b[1;33m\u001b[0m\u001b[0m\n\u001b[1;32m----> 2\u001b[1;33m \u001b[0mprint\u001b[0m\u001b[1;33m(\u001b[0m\u001b[0mxx\u001b[0m\u001b[1;33m)\u001b[0m          \u001b[1;31m#Gives Name error\u001b[0m\u001b[1;33m\u001b[0m\u001b[1;33m\u001b[0m\u001b[0m\n\u001b[0m",
      "\u001b[1;31mNameError\u001b[0m: name 'xx' is not defined"
     ]
    }
   ],
   "source": [
    "a=10\n",
    "print(xx)          #Gives Name error"
   ]
  },
  {
   "cell_type": "code",
   "execution_count": 24,
   "metadata": {},
   "outputs": [
    {
     "ename": "FileNotFoundError",
     "evalue": "[Errno 2] No such file or directory: 'manoj.txt'",
     "output_type": "error",
     "traceback": [
      "\u001b[1;31m---------------------------------------------------------------------------\u001b[0m",
      "\u001b[1;31mFileNotFoundError\u001b[0m                         Traceback (most recent call last)",
      "\u001b[1;32m<ipython-input-24-e6f746ed2906>\u001b[0m in \u001b[0;36m<module>\u001b[1;34m\u001b[0m\n\u001b[1;32m----> 1\u001b[1;33m \u001b[0mx\u001b[0m\u001b[1;33m=\u001b[0m\u001b[0mopen\u001b[0m\u001b[1;33m(\u001b[0m\u001b[1;34m'manoj.txt'\u001b[0m\u001b[1;33m)\u001b[0m     \u001b[1;31m#Gives FileNotFound error\u001b[0m\u001b[1;33m\u001b[0m\u001b[1;33m\u001b[0m\u001b[0m\n\u001b[0m",
      "\u001b[1;31mFileNotFoundError\u001b[0m: [Errno 2] No such file or directory: 'manoj.txt'"
     ]
    }
   ],
   "source": [
    "x=open('manoj.txt')     #Gives FileNotFound error"
   ]
  },
  {
   "cell_type": "markdown",
   "metadata": {},
   "source": [
    "# Question 8\n",
    "Encryption is the process of hiding the meaning of a text by substituting letters in the\n",
    "message with other letters, according to some system. If the process is successful, no\n",
    "one but the intended recipient can understand the encrypted message. Cryptanalysis\n",
    "refers to attempts to undo the encryption, even if some details of the encryption are\n",
    "unknown (for example, if an encrypted message has been intercepted). The first step\n",
    "of cryptanalysis is often to build up a table of letter frequencies in the encrypted text.\n",
    "Assume that the string letters is already defined as\n",
    "'abcdefghijklmnopqrstuvwxyz'. Write a function called frequencies()\n",
    "that takes a string as its only parameter, and returns a list of integers, showing the\n",
    "number of times each character appears in the text. Your function may ignore any\n",
    "characters that are not in letters.  "
   ]
  },
  {
   "cell_type": "code",
   "execution_count": 25,
   "metadata": {},
   "outputs": [],
   "source": [
    "def frequencies(sentence):                    #Takes the string as the input parameter.\n",
    "    letters='abcdefghijklmnopqrstuvwxyz'\n",
    "    list1=list(letters)                       #Converts the string into list of elements.\n",
    "    list2=list(sentence)                      \n",
    "    list3=[]\n",
    "    for element in list1:\n",
    "        list3.append(list2.count(element))   #Counts the occurance of each letter in the string(list of elements).\n",
    "    return (list3)                           #Returns the list having the information about the occurance of each letter."
   ]
  },
  {
   "cell_type": "code",
   "execution_count": 26,
   "metadata": {},
   "outputs": [
    {
     "name": "stdout",
     "output_type": "stream",
     "text": [
      "The letter frequencies in the encrypted text is [1, 1, 1, 3, 5, 1, 1, 2, 1, 0, 1, 0, 1, 2, 4, 0, 1, 2, 0, 2, 1, 0, 1, 1, 0, 0]\n",
      "The letter frequencies in the encrypted text is [1, 0, 0, 0, 1, 0, 0, 0, 0, 0, 0, 1, 0, 0, 0, 2, 0, 0, 0, 0, 0, 0, 0, 0, 0, 0]\n"
     ]
    }
   ],
   "source": [
    "answer=frequencies('The quick red fox got bored and went home')  #Function call\n",
    "print(\"The letter frequencies in the encrypted text is\",answer)\n",
    "answer2=frequencies('apple')\n",
    "print(\"The letter frequencies in the encrypted text is\",answer2)"
   ]
  },
  {
   "cell_type": "markdown",
   "metadata": {},
   "source": [
    "# Question 9\n",
    "The Sieve of Erastophenes is an algorithm -- known to ancient Greeks -- that finds\n",
    "all prime numbers up to a given number n. It does this by first creating a list L from\n",
    "2 to n and an (initially empty) list primeL. The algorithm then takes the first number\n",
    "in list L (2) and appends it to list primeL, and then removes 2 and all its multiples\n",
    "(4,6,8,10,12, ...) from L. The algorithm then takes the new first number in L (3) and\n",
    "appends it to list primeL, and then removes from L 3 and all its remaining multiples\n",
    "(9,15,21,...). So, in every iteration, the first number of list L is appended to list\n",
    "primeL and then it and its multiples are removed from list L. The iterations stop\n",
    "when list L becomes empty. Write a function sieve() that takes as input a positive\n",
    "integer n, implements the above algorithm, and returns a list of all prime numbers up\n",
    "to n."
   ]
  },
  {
   "cell_type": "code",
   "execution_count": 27,
   "metadata": {},
   "outputs": [],
   "source": [
    "def sieve(n):                    #Function sieve takes the given given (n) as the parameter.\n",
    "    L=[]\n",
    "    primeL=[]                    #Creates empty list.\n",
    "    for i in range(2,n):\n",
    "        L.append(i)              # Creates a list of elements from 2 to n.\n",
    "    while (len(L)!=0):           #Iterates untill the length of the list l becomes 0.\n",
    "        p=L[0]                   # Takes and Stores the value of first element of the list in p during every iteration.\n",
    "        primeL.append(p)         # copies the first element to list primeL\n",
    "        for j in L:              # Iterates through each element of L.\n",
    "            if j%p==0:           # Checks for the multiples of first element in the list L.\n",
    "                L.remove(j)      # Removes the first element of list L and it's multiples during a iteration.\n",
    "    return(primeL)               # Returns the list of primeNumbers"
   ]
  },
  {
   "cell_type": "code",
   "execution_count": 28,
   "metadata": {},
   "outputs": [
    {
     "name": "stdout",
     "output_type": "stream",
     "text": [
      "Prime numbers upto 56 are [2, 3, 5, 7, 11, 13, 17, 19, 23, 29, 31, 37, 41, 43, 47, 53]\n",
      "Prime numbers upto 368 are [2, 3, 5, 7, 11, 13, 17, 19, 23, 29, 31, 37, 41, 43, 47, 53, 59, 61, 67, 71, 73, 79, 83, 89, 97, 101, 103, 107, 109, 113, 127, 131, 137, 139, 149, 151, 157, 163, 167, 173, 179, 181, 191, 193, 197, 199, 211, 223, 227, 229, 233, 239, 241, 251, 257, 263, 269, 271, 277, 281, 283, 293, 307, 311, 313, 317, 331, 337, 347, 349, 353, 359, 367]\n",
      "Prime numbers upto 56 are [2, 3, 5, 7, 11, 13, 17, 19, 23, 29, 31]\n"
     ]
    }
   ],
   "source": [
    "x=sieve(56)                      #Function call \n",
    "print(\"Prime numbers upto 56 are\",x)# The returned list is stored in x and then it is displayed.\n",
    "x1=sieve(368)\n",
    "print(\"Prime numbers upto 368 are\",x1)\n",
    "x2=sieve(32)\n",
    "print(\"Prime numbers upto 56 are\",x2)"
   ]
  },
  {
   "cell_type": "markdown",
   "metadata": {},
   "source": [
    "# Question 10\n",
    "Implement function triangleArea(a,b,c) that takes as input the lengths of the 3\n",
    "sides of a triangle and returns the area of the triangle. By Heron's formula, the area\n",
    "of a triangle with side lengths a, b, and c is\n",
    "s(s - a)(s -b)(s -c)\n",
    ", where\n",
    "s = (a+b+c)/2. "
   ]
  },
  {
   "cell_type": "code",
   "execution_count": 29,
   "metadata": {},
   "outputs": [],
   "source": [
    "import math                      #Imports the math module.\n",
    "def triangleArea(a,b,c):        # The function traingleArea takes 3 input parameters.\n",
    "    s=(a+b+c)/2                 \n",
    "    x=math.sqrt((s*(s-a)*(s-b)*(s-c)))   # Math according to Heron's formula\n",
    "    return x                           #Returns the result."
   ]
  },
  {
   "cell_type": "code",
   "execution_count": 30,
   "metadata": {},
   "outputs": [
    {
     "name": "stdout",
     "output_type": "stream",
     "text": [
      "The area of the triangle for the inputs 2,2,2 is: 1.7320508075688772\n"
     ]
    }
   ],
   "source": [
    "area=triangleArea(2,2,2)            # Function call\n",
    "print(\"The area of the triangle for the inputs 2,2,2 is:\", area)                         #Displays the result."
   ]
  },
  {
   "cell_type": "code",
   "execution_count": null,
   "metadata": {},
   "outputs": [],
   "source": []
  },
  {
   "cell_type": "code",
   "execution_count": null,
   "metadata": {},
   "outputs": [],
   "source": []
  }
 ],
 "metadata": {
  "kernelspec": {
   "display_name": "Python 3",
   "language": "python",
   "name": "python3"
  },
  "language_info": {
   "codemirror_mode": {
    "name": "ipython",
    "version": 3
   },
   "file_extension": ".py",
   "mimetype": "text/x-python",
   "name": "python",
   "nbconvert_exporter": "python",
   "pygments_lexer": "ipython3",
   "version": "3.8.3"
  }
 },
 "nbformat": 4,
 "nbformat_minor": 4
}
